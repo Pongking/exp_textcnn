{
 "cells": [
  {
   "cell_type": "code",
   "execution_count": null,
   "metadata": {},
   "outputs": [],
   "source": [
    "import wandb\n",
    "from tqdm import tqdm\n",
    "from collections import Counter\n",
    "import torch\n",
    "from torch.utils.data import DataLoader\n",
    "from sklearn.preprocessing import LabelEncoder\n",
    "from sklearn.model_selection import train_test_split\n",
    "from pandas import DataFrame\n",
    "from pprint import pprint\n",
    "import codecs\n",
    "import pandas as pd\n",
    "wandb.login()"
   ]
  },
  {
   "cell_type": "code",
   "execution_count": null,
   "metadata": {},
   "outputs": [],
   "source": [
    "sweep_config={\n",
    "    'method':'random'\n",
    "}"
   ]
  },
  {
   "cell_type": "code",
   "execution_count": null,
   "metadata": {},
   "outputs": [],
   "source": [
    "import math\n",
    "\n",
    "parameters_dict={\n",
    "    'num_filter':{\n",
    "        'values':[3,4,5]\n",
    "    },\n",
    "    'optimizer':{\n",
    "        'values':['adam','sgd']\n",
    "    },\n",
    "    'dropout':{\n",
    "        'values':[0.3,0.4,0.5]\n",
    "    },\n",
    "    'learning_rate':{\n",
    "        'distribution':'uniform',\n",
    "        'min':0,\n",
    "        'max':0.1\n",
    "    },\n",
    "    'batch_size':{\n",
    "        'distribution':'q_log_uniform',\n",
    "        'q':1,\n",
    "        'min':math.log(32),\n",
    "        'max':math.log(256),\n",
    "    }\n",
    "}\n",
    "\n",
    "sweep_config['parameters']=parameters_dict"
   ]
  },
  {
   "cell_type": "code",
   "execution_count": null,
   "metadata": {},
   "outputs": [],
   "source": [
    "parameters_dict.update({\n",
    "    'epochs':{\n",
    "        'value':1\n",
    "    }\n",
    "})"
   ]
  },
  {
   "cell_type": "code",
   "execution_count": null,
   "metadata": {},
   "outputs": [],
   "source": [
    "\n",
    "pprint(sweep_config)"
   ]
  },
  {
   "cell_type": "code",
   "execution_count": null,
   "metadata": {},
   "outputs": [],
   "source": [
    "sweep_id=wandb.sweep(sweep_config,project=\"pytorch-sweeps-demo\")\n",
    "wandb.init()"
   ]
  },
  {
   "cell_type": "code",
   "execution_count": null,
   "metadata": {},
   "outputs": [],
   "source": [
    "\n",
    "path_data_file='./datasets/toutiao_cat_data.txt'\n",
    "text=[]\n",
    "label=[]\n",
    "id=[]\n",
    "with codecs.open(path_data_file,'r') as f:\n",
    "    for line in f.readlines():\n",
    "        line=line.strip()\n",
    "        if not line or len(line)<1:\n",
    "            continue\n",
    "        contents=line.split(\"_!_\")\n",
    "        label.append(contents[2])\n",
    "        id.append(contents[0])\n",
    "        text.append(\"\".join(contents[3:]))\n",
    "dict_origin={\n",
    "    \"id\":id,\n",
    "    \"text\":text,\n",
    "    \"label\":label\n",
    "}\n",
    "df_origin=pd.DataFrame(dict_origin,columns=[\"id\",\"text\",\"label\"])"
   ]
  },
  {
   "cell_type": "code",
   "execution_count": null,
   "metadata": {},
   "outputs": [],
   "source": [
    "df_origin[:6]"
   ]
  },
  {
   "cell_type": "code",
   "execution_count": null,
   "metadata": {},
   "outputs": [],
   "source": [
    "value_counts=df_origin['label'].value_counts()"
   ]
  },
  {
   "cell_type": "code",
   "execution_count": null,
   "metadata": {},
   "outputs": [],
   "source": [
    "value_counts.to_frame()"
   ]
  },
  {
   "cell_type": "code",
   "execution_count": null,
   "metadata": {},
   "outputs": [],
   "source": [
    "##处理词频等\n",
    "words=\"\".join(df_origin['text'])"
   ]
  },
  {
   "cell_type": "code",
   "execution_count": null,
   "metadata": {},
   "outputs": [],
   "source": [
    "words[:100]"
   ]
  },
  {
   "cell_type": "code",
   "execution_count": null,
   "metadata": {},
   "outputs": [],
   "source": [
    "##文本清理\n",
    "import re \n",
    "re_obj=re.compile(r\"[!\\\"#$%&'()*+,-./;:<=>?@[\\\\\\]^_~`{|}-——……！，。？、’“‘”；：￥（）【】《》\\s]+\")\n",
    "def clear(text):\n",
    "    return re_obj.sub('',text)\n",
    "words=clear(words)\n",
    "words[:100]"
   ]
  },
  {
   "cell_type": "code",
   "execution_count": null,
   "metadata": {},
   "outputs": [],
   "source": [
    "words[len(words)-1]"
   ]
  },
  {
   "cell_type": "code",
   "execution_count": null,
   "metadata": {},
   "outputs": [],
   "source": [
    "import gc\n",
    "gc.collect()"
   ]
  },
  {
   "cell_type": "code",
   "execution_count": null,
   "metadata": {},
   "outputs": [],
   "source": [
    "vocab=[w for w,f in Counter(words).most_common() if f >1]\n",
    "vocab=['<pad>','<unk>']+vocab\n",
    "index2word={i:word for i,word in enumerate(vocab)}\n",
    "word2index={word:i for i,word in enumerate(vocab)}"
   ]
  },
  {
   "cell_type": "code",
   "execution_count": null,
   "metadata": {},
   "outputs": [],
   "source": [
    "index2word[3]"
   ]
  },
  {
   "cell_type": "code",
   "execution_count": null,
   "metadata": {},
   "outputs": [],
   "source": [
    "max_length=512\n",
    "def sentence_2_ids(sentence:str):\n",
    "    unk_id=word2index['<unk>']\n",
    "    pad_id=word2index['<pad>']\n",
    "    if len(sentence)>max_length:\n",
    "        sentence=sentence[-max_length:]\n",
    "    indexes=[word2index.get(word,unk_id) for word in sentence]\n",
    "    if len(indexes)<max_length:\n",
    "        indexes.extend([pad_id]*(max_length-len(indexes)))\n",
    "    if len(indexes)>max_length:\n",
    "        indexes=indexes[-max_length:]\n",
    "    if len(indexes)!=512:\n",
    "        print(indexes)\n",
    "    return indexes\n",
    "#返回句子的数字向量"
   ]
  },
  {
   "cell_type": "code",
   "execution_count": null,
   "metadata": {},
   "outputs": [],
   "source": [
    "import torch \n",
    "class DatasetTextCNN(torch.utils.data.Dataset):\n",
    "    def __init__(self,encodings,labels=None):\n",
    "        self.encodings=encodings\n",
    "        self.labels=labels\n",
    "    def __getitem__(self,idx):\n",
    "        return self.encodings[idx],self.labels[idx]\n",
    "    def __len__(self):\n",
    "        return len(self.encodings)"
   ]
  },
  {
   "cell_type": "code",
   "execution_count": null,
   "metadata": {},
   "outputs": [],
   "source": [
    "le=LabelEncoder()\n",
    "le.fit(label)"
   ]
  },
  {
   "cell_type": "code",
   "execution_count": null,
   "metadata": {},
   "outputs": [],
   "source": [
    "type(le)"
   ]
  },
  {
   "cell_type": "code",
   "execution_count": null,
   "metadata": {},
   "outputs": [],
   "source": [
    "#dataframe转为textcnn的数据类型  (文本编码，标签)\n",
    "def df_2_dataset_textcnn(df:DataFrame):\n",
    "    x=list(df[\"text\"])\n",
    "    df[\"label_id\"]=le.transform(df[\"label\"].tolist())\n",
    "    y=list(df[\"label_id\"])\n",
    "    text=[]\n",
    "    for element in x:\n",
    "        words=sentence_2_ids(element)\n",
    "        text.append(words)\n",
    "    result=DatasetTextCNN(text,y)\n",
    "    return result"
   ]
  },
  {
   "cell_type": "code",
   "execution_count": null,
   "metadata": {},
   "outputs": [],
   "source": [
    "df_train,df_test=train_test_split(df_origin,test_size=0.1,stratify=df_origin[['label']])\n",
    "df_train,df_eval=train_test_split(df_train,test_size=0.1,stratify=df_train[['label']])\n",
    "\n",
    "df_train,_=train_test_split(df_train,test_size=0.8,stratify=df_train[['label']])\n",
    "\n",
    "pprint(df_train.shape)\n",
    "pprint(df_test.shape)\n",
    "pprint(df_eval.shape)"
   ]
  },
  {
   "cell_type": "code",
   "execution_count": null,
   "metadata": {},
   "outputs": [],
   "source": [
    "dataset_train=df_2_dataset_textcnn(df_train)\n",
    "dataset_eval=df_2_dataset_textcnn(df_eval)\n",
    "dataset_test=df_2_dataset_textcnn(df_test)"
   ]
  },
  {
   "cell_type": "code",
   "execution_count": null,
   "metadata": {},
   "outputs": [],
   "source": [
    "len(dataset_train)"
   ]
  },
  {
   "cell_type": "code",
   "execution_count": null,
   "metadata": {},
   "outputs": [],
   "source": [
    "def collate_fn(batch):\n",
    "    text,label=zip(*batch)\n",
    "    new_text=torch.LongTensor(text)\n",
    "    new_label=torch.LongTensor(label)\n",
    "    return new_text,new_label"
   ]
  },
  {
   "cell_type": "code",
   "execution_count": null,
   "metadata": {},
   "outputs": [],
   "source": [
    "import torch.nn as nn\n",
    "import numpy as np\n",
    "import torch.nn.functional as F\n",
    "\n",
    "use_cuda=True if torch.cuda.is_available() else False\n",
    "MAX_LENGTH=512\n",
    "FILTERS=[2,3,4,5]\n",
    "NUM_LABEL=value_counts.shape[0]"
   ]
  },
  {
   "cell_type": "code",
   "execution_count": null,
   "metadata": {},
   "outputs": [],
   "source": [
    "use_cuda"
   ]
  },
  {
   "cell_type": "code",
   "execution_count": null,
   "metadata": {},
   "outputs": [],
   "source": []
  }
 ],
 "metadata": {
  "kernelspec": {
   "display_name": "pc_demo1",
   "language": "python",
   "name": "python3"
  },
  "language_info": {
   "codemirror_mode": {
    "name": "ipython",
    "version": 3
   },
   "file_extension": ".py",
   "mimetype": "text/x-python",
   "name": "python",
   "nbconvert_exporter": "python",
   "pygments_lexer": "ipython3",
   "version": "3.8.17"
  },
  "orig_nbformat": 4
 },
 "nbformat": 4,
 "nbformat_minor": 2
}
